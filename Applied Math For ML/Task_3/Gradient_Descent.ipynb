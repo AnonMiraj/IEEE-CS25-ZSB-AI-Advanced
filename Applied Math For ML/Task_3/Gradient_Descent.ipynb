{
 "cells": [
  {
   "cell_type": "markdown",
   "metadata": {
    "id": "ju4GI9CWa2Eq"
   },
   "source": [
    "# Linear Regression Using Gradient Descent\n",
    "\n",
    "## Problem Statement\n",
    "\n",
    "We need to implement a Python function that performs linear regression using gradient descent. The function should take the following inputs:\n",
    "\n",
    "- `X`: A NumPy array representing the feature matrix with a column of ones for the intercept.\n",
    "- `y`: A NumPy array representing the target values.\n",
    "- `alpha`: The learning rate for gradient descent.\n",
    "- `iterations`: The number of iterations to perform gradient descent.\n",
    "\n",
    "The function should return the coefficients of the linear regression model as a NumPy array, rounded to four decimal places.\n",
    "\n",
    "## Example\n",
    "\n",
    "**Input:**\n",
    "```python\n",
    "import numpy as np\n",
    "\n",
    "X = np.array([[1, 1], [1, 2], [1, 3]])\n",
    "y = np.array([1, 2, 3])\n",
    "alpha = 0.01\n",
    "iterations = 1000\n",
    "```\n",
    "\n",
    "```python\n",
    "\n",
    "import numpy as np\n",
    "import matplotlib.pyplot as plt\n",
    "\n",
    "def linear_regression_gradient_descent(X: np.ndarray, y: np.ndarray, alpha: float, iterations: int) -> np.ndarray:\n",
    "    m, n = X.shape\n",
    "    theta = np.zeros((n, 1))\n",
    "    y = y.reshape(-1, 1)\n",
    "\n",
    "    for _ in range(iterations):\n",
    "        prediction = np.dot(X, theta)\n",
    "        err = prediction - y\n",
    "        gradient = (1 / m) * np.dot(X.T, err)\n",
    "        theta -= alpha * gradient\n",
    "\n",
    "    return np.round(theta.flatten(), 4)\n",
    "\n",
    "theta = linear_regression_gradient_descent(X, y, alpha, iterations)\n",
    "\n",
    "plt.scatter(X[:, 1], y)\n",
    "\n",
    "x_vals = np.linspace(0, 4, 100)\n",
    "y_vals = theta[0] + theta[1] * x_vals\n",
    "\n",
    "plt.plot(x_vals, y_vals)\n",
    "plt.show()\n",
    "```\n"
   ]
  }
 ],
 "metadata": {
  "colab": {
   "provenance": []
  },
  "jupytext": {
   "main_language": "python"
  },
  "kernelspec": {
   "display_name": "Python 3",
   "name": "python3"
  },
  "language_info": {
   "name": "python"
  }
 },
 "nbformat": 4,
 "nbformat_minor": 0
}
